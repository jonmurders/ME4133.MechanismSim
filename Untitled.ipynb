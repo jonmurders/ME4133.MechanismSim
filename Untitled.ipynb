{
 "cells": [
  {
   "cell_type": "code",
   "execution_count": 1,
   "metadata": {},
   "outputs": [],
   "source": [
    "from math import pi\n",
    "import math\n",
    "import numpy as np\n",
    "from numpy.linalg import inv\n",
    "import pandas as pd\n",
    "from matplotlib import pyplot as plt\n",
    "\n",
    "sin = math.sin\n",
    "cos = math.cos\n",
    "tan = math.tan"
   ]
  },
  {
   "cell_type": "code",
   "execution_count": 2,
   "metadata": {},
   "outputs": [
    {
     "name": "stdout",
     "output_type": "stream",
     "text": [
      "          Variable    Value    Units\n",
      "0        R1 Length   0.1200        m\n",
      "1        R2 Length   0.0500        m\n",
      "2        R3 Length   0.0760        m\n",
      "3        R4 Length   0.2790        m\n",
      "4        R5 Length   0.1010        m\n",
      "5        R6 Length   0.0927        m\n",
      "6          Theta 1  -3.1400  radians\n",
      "7          Theta 2   0.0000  radians\n",
      "8          Theta 3   5.2360  radians\n",
      "9          Theta 4   5.2360  radians\n",
      "10         Theta 5  -1.5700  radians\n",
      "11         Theta 6   0.0000  radians\n",
      "12              M2  10.0000       kg\n",
      "13              M3  10.0000       kg\n",
      "14              M4  10.0000       kg\n",
      "15              M5  10.0000       kg\n",
      "16              I2   1.0000      NaN\n",
      "17              I3   1.0000      NaN\n",
      "18              I4   1.0000      NaN\n",
      "19              I5   1.0000      NaN\n",
      "20         Alpha 2   1.0000      NaN\n",
      "21  Theta 2 Finish   9.0000  radians\n",
      "22         Omega 2   3.1400   rads/s\n"
     ]
    }
   ],
   "source": [
    "input = pd.read_csv('Input.csv')\n",
    "print(input)"
   ]
  },
  {
   "cell_type": "code",
   "execution_count": 3,
   "metadata": {},
   "outputs": [
    {
     "name": "stdout",
     "output_type": "stream",
     "text": [
      "[5.236 0.076 5.236 0.279 0.101]\n"
     ]
    }
   ],
   "source": [
    "#loading scalar knowns from input sheet\n",
    "R1 = input.loc[0,'Value']  #inches - pg 96\n",
    "R2 = input.loc[1,'Value'] #inches - pg 96\n",
    "R6 = input.loc[5,'Value'] #inches - pg 96\n",
    "theta_1 = 1.570796# pg 96\n",
    "theta_5 = 0# pg 96\n",
    "theta_6 = 1.570796# pg 96\n",
    "m2 = input.loc[12,'Value']\n",
    "m3 = input.loc[13,'Value']\n",
    "m4 = input.loc[14,'Value']\n",
    "m5 = input.loc[15,'Value']\n",
    "i2 = input.loc[16,'Value']\n",
    "i3 = input.loc[17,'Value']\n",
    "i4 = input.loc[18,'Value']\n",
    "i5 = input.loc[19,'Value']\n",
    "#Initial guess values from the input sheet\n",
    "theta_3 = input.loc[8,'Value'] #radians\n",
    "R3 = input.loc[2,'Value'] #meter\n",
    "theta_4 = input.loc[9,'Value'] #radians\n",
    "R4 = input.loc[3,'Value'] #meters\n",
    "R5 =  input.loc[4,'Value'] #meters\n",
    "x = np.array([theta_3,R3,theta_4,R4,R5], dtype=np.float)\n",
    "print(x)\n",
    "#Input Setup from the input sheet\n",
    "a2 = input.loc[20,'Value'] #radians per second per second\n",
    "theta_2 = 1 #radians\n",
    "w2 = input.loc[22,'Value'] #radians per second"
   ]
  },
  {
   "cell_type": "code",
   "execution_count": 4,
   "metadata": {},
   "outputs": [],
   "source": [
    "    ct2 = cos(theta_2)\n",
    "    st2 = sin(theta_2)\n",
    "    ct3 = cos(theta_3)\n",
    "    st3 = sin(theta_3)\n",
    "    ct4 = cos(theta_4)\n",
    "    st4 = sin(theta_4)\n",
    "    ct5 = cos(theta_5)\n",
    "    st5 = sin(theta_5)\n",
    "    ct6 = cos(theta_6)\n",
    "    st6 = sin(theta_6)"
   ]
  },
  {
   "cell_type": "code",
   "execution_count": 5,
   "metadata": {},
   "outputs": [],
   "source": [
    "#find the values of the VLEs provided on page 96\n",
    "f1 = R2*ct2-R3*ct3+R1 #R1x\n",
    "f2 = R2*st2-R3*st3 #R1y\n",
    "f3 = R5 - R4*ct4-R1 #R2x\n",
    "f4 = R6 -R4*st4 #R2y\n",
    "f5 = theta_4-theta_3 #G1\n",
    "f = [f1, f2, f3, f4, f5]\n",
    "fa = np.array(f,dtype=np.float)"
   ]
  },
  {
   "cell_type": "code",
   "execution_count": 6,
   "metadata": {},
   "outputs": [],
   "source": [
    "#finding the derivatives\n",
    "dfdh3 = np.array([[R3*st3], [-R3*ct3],[0], [0], [-1]], dtype=np.float)\n",
    "dfdr3 = np.array([[-ct3], [-st3], [0], [0], [0]], dtype=np.float)\n",
    "dfdt4 = np.array([[0], [0], [R4*st4], [-R4*ct4], [1]], dtype=np.float)\n",
    "dfdr4 = np.array([[0], [0], [-ct4], [-st4], [0]], dtype=np.float)\n",
    "dfdr5 = np.array([[0], [0], [ct5], [st5], [0]], dtype=np.float)"
   ]
  },
  {
   "cell_type": "code",
   "execution_count": 7,
   "metadata": {},
   "outputs": [
    {
     "name": "stdout",
     "output_type": "stream",
     "text": [
      "[[-0.06581747 -0.5000106   0.          0.          0.        ]\n",
      " [-0.03800081  0.86601928  0.          0.          0.        ]\n",
      " [ 0.          0.         -0.24161938 -0.5000106   1.        ]\n",
      " [ 0.          0.         -0.13950296  0.86601928  0.        ]\n",
      " [-1.          0.          1.          0.          0.        ]]\n"
     ]
    }
   ],
   "source": [
    "#Making 5x5 array of derivatives\n",
    "A = np.hstack((dfdh3,dfdr3,dfdt4,dfdr4,dfdr5))\n",
    "print(A)"
   ]
  },
  {
   "cell_type": "code",
   "execution_count": 8,
   "metadata": {},
   "outputs": [
    {
     "name": "stdout",
     "output_type": "stream",
     "text": [
      "[[-11.39499055  -6.57908689  -0.          -0.          -0.        ]\n",
      " [ -0.5000106    0.86601928   0.           0.           0.        ]\n",
      " [-11.39499055  -6.57908689  -0.          -0.           1.        ]\n",
      " [ -1.83556524  -1.05979405   0.           1.1547087    0.16108528]\n",
      " [ -3.67105263  -2.11954316   1.           0.57736659   0.32216373]]\n"
     ]
    }
   ],
   "source": [
    "ainv = inv(A)\n",
    "print(ainv)"
   ]
  },
  {
   "cell_type": "code",
   "execution_count": 9,
   "metadata": {},
   "outputs": [],
   "source": [
    "#Newton's Method Applied\n",
    "x = x-(ainv*fa)"
   ]
  },
  {
   "cell_type": "code",
   "execution_count": 10,
   "metadata": {},
   "outputs": [
    {
     "name": "stdout",
     "output_type": "stream",
     "text": [
      "[[ 6.47821703  0.78582436  5.236       0.279       0.101     ]\n",
      " [ 5.29050831 -0.0174357   5.236       0.279       0.101     ]\n",
      " [ 6.47821703  0.78582436  5.236       0.279       0.101     ]\n",
      " [ 5.43610288  0.19034226  5.236      -0.1070415   0.101     ]\n",
      " [ 5.63619727  0.30467966  5.39450296  0.08597516  0.101     ]]\n"
     ]
    }
   ],
   "source": [
    "print(x)"
   ]
  },
  {
   "cell_type": "code",
   "execution_count": 11,
   "metadata": {},
   "outputs": [],
   "source": [
    "#Extracts values\n",
    "theta_3 = x[0][0]\n",
    "R3 = x[1][0]\n",
    "theta_4 = x[2][0]\n",
    "R4 = x[3][0]\n",
    "R5 = x[4][0]"
   ]
  },
  {
   "cell_type": "code",
   "execution_count": null,
   "metadata": {},
   "outputs": [],
   "source": []
  },
  {
   "cell_type": "code",
   "execution_count": null,
   "metadata": {},
   "outputs": [],
   "source": []
  }
 ],
 "metadata": {
  "kernelspec": {
   "display_name": "Python 3",
   "language": "python",
   "name": "python3"
  },
  "language_info": {
   "codemirror_mode": {
    "name": "ipython",
    "version": 3
   },
   "file_extension": ".py",
   "mimetype": "text/x-python",
   "name": "python",
   "nbconvert_exporter": "python",
   "pygments_lexer": "ipython3",
   "version": "3.7.3"
  }
 },
 "nbformat": 4,
 "nbformat_minor": 2
}
